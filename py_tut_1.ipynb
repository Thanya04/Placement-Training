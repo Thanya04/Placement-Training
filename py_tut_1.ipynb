{
 "cells": [
  {
   "cell_type": "code",
   "execution_count": 1,
   "metadata": {},
   "outputs": [
    {
     "name": "stdout",
     "output_type": "stream",
     "text": [
      "hello world\n"
     ]
    }
   ],
   "source": [
    "print(\"hello world\")"
   ]
  },
  {
   "cell_type": "code",
   "execution_count": 2,
   "metadata": {},
   "outputs": [],
   "source": [
    "n=6"
   ]
  },
  {
   "cell_type": "code",
   "execution_count": 1,
   "metadata": {},
   "outputs": [
    {
     "name": "stdout",
     "output_type": "stream",
     "text": [
      "720\n"
     ]
    }
   ],
   "source": [
    "def fact(n):\n",
    "    if(n==0):\n",
    "        return 1\n",
    "    else:\n",
    "        return n*fact(n-1)\n",
    "print(fact(6))"
   ]
  },
  {
   "cell_type": "code",
   "execution_count": 3,
   "metadata": {},
   "outputs": [
    {
     "name": "stdout",
     "output_type": "stream",
     "text": [
      "5 <class 'int'> 140736113730472\n",
      "2.5 <class 'float'> 1585405255088\n",
      "7 <class 'int'> 140736113730536\n",
      "True <class 'bool'> 140736112204648\n"
     ]
    }
   ],
   "source": [
    "a=5\n",
    "print(a,type(a),id(a))\n",
    "\n",
    "b=a/2\n",
    "print(b,type(b),id(b))\n",
    "\n",
    "c=3+4\n",
    "print(c,type(c),id(c))\n",
    "\n",
    "d=True\n",
    "print(d,type(d),id(d))\n"
   ]
  },
  {
   "cell_type": "code",
   "execution_count": 4,
   "metadata": {},
   "outputs": [
    {
     "name": "stdout",
     "output_type": "stream",
     "text": [
      "[0, 1, 2, 3]\n",
      "4\n",
      "0\n",
      "1\n",
      "2\n",
      "3\n"
     ]
    }
   ],
   "source": [
    "list=[0,1,2,3]\n",
    "print(list)\n",
    "print(len(list))\n",
    "for i in range(0,len(list)):\n",
    "    print(list[i])"
   ]
  },
  {
   "cell_type": "code",
   "execution_count": 15,
   "metadata": {},
   "outputs": [
    {
     "name": "stdout",
     "output_type": "stream",
     "text": [
      "(10, 20, 30, 40, 50)\n",
      "5\n",
      "10\n",
      "20\n",
      "30\n",
      "40\n",
      "50\n"
     ]
    }
   ],
   "source": [
    "tuple=(10,20,30,40,50)\n",
    "print(tuple)\n",
    "print(len(tuple))\n",
    "for i in range(0,len(tuple)):\n",
    "    print(tuple[i])"
   ]
  },
  {
   "cell_type": "code",
   "execution_count": 5,
   "metadata": {},
   "outputs": [
    {
     "name": "stdout",
     "output_type": "stream",
     "text": [
      "{'apple', 'cherry', 'banana'}\n",
      "3\n",
      "{'apple', 'cherry', 'banana'}\n",
      "{'apple', 'cherry', 'banana'}\n",
      "{'apple', 'cherry', 'banana'}\n"
     ]
    }
   ],
   "source": [
    "set = {\"apple\", \"banana\", \"cherry\"}\n",
    "print(set)\n",
    "print(len(set))\n",
    "for i in set:\n",
    "    print(set)"
   ]
  },
  {
   "cell_type": "code",
   "execution_count": 7,
   "metadata": {},
   "outputs": [
    {
     "name": "stdout",
     "output_type": "stream",
     "text": [
      "{'brand': 'Maruthi', 'model': 'Swift', 'year': 2018}\n",
      "3\n",
      "{'brand': 'Maruthi', 'model': 'Swift', 'year': 2018}\n",
      "{'brand': 'Maruthi', 'model': 'Swift', 'year': 2018}\n",
      "{'brand': 'Maruthi', 'model': 'Swift', 'year': 2018}\n"
     ]
    }
   ],
   "source": [
    "dict = {  \"brand\": \"Maruthi\",  \"model\": \"Swift\",  \"year\": 2018}\n",
    "print(dict)\n",
    "print(len(dict))\n",
    "for i in dict:\n",
    "    print(dict)"
   ]
  },
  {
   "cell_type": "code",
   "execution_count": 6,
   "metadata": {},
   "outputs": [
    {
     "name": "stdout",
     "output_type": "stream",
     "text": [
      "5 <class 'int'>\n",
      "2.5 <class 'float'>\n",
      "5 <class 'str'>\n",
      "5 <class 'int'>\n"
     ]
    }
   ],
   "source": [
    "a=5\n",
    "print(a,type(a))\n",
    "a=a/2\n",
    "print(a,type(a))\n",
    "\n",
    "b=\"5\"\n",
    "print(b,type(b))\n",
    "b=int(b)\n",
    "print(b,type(b))"
   ]
  },
  {
   "cell_type": "code",
   "execution_count": 8,
   "metadata": {},
   "outputs": [
    {
     "name": "stdout",
     "output_type": "stream",
     "text": [
      "30\n",
      "10\n",
      "False\n",
      "True\n",
      "20\n",
      "True\n",
      "True\n"
     ]
    }
   ],
   "source": [
    "#operators\n",
    "c=[10,20,30]\n",
    "a=20\n",
    "b=10\n",
    "#arithmetic operators\n",
    "print(a+b)\n",
    "print(a-b)\n",
    "#comparison operators\n",
    "if(a==b):\n",
    "    print(True)\n",
    "else:\n",
    "    print(False)\n",
    "#bitwise operators\n",
    "print(a>b)\n",
    "#logical operators\n",
    "print(a or b)\n",
    "#membership operators\n",
    "print(30 in c)\n",
    "#identity operators\n",
    "print(a is not b)"
   ]
  }
 ],
 "metadata": {
  "kernelspec": {
   "display_name": "venv",
   "language": "python",
   "name": "python3"
  },
  "language_info": {
   "codemirror_mode": {
    "name": "ipython",
    "version": 3
   },
   "file_extension": ".py",
   "mimetype": "text/x-python",
   "name": "python",
   "nbconvert_exporter": "python",
   "pygments_lexer": "ipython3",
   "version": "3.11.3"
  }
 },
 "nbformat": 4,
 "nbformat_minor": 2
}
